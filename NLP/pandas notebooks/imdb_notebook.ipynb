{
 "cells": [
  {
   "cell_type": "markdown",
   "id": "1700b61e",
   "metadata": {},
   "source": [
    "# IMDB Wordcloud"
   ]
  },
  {
   "cell_type": "markdown",
   "id": "22d6d898",
   "metadata": {},
   "source": [
    "## Import Libraries"
   ]
  },
  {
   "cell_type": "code",
   "execution_count": null,
   "id": "8abb748e",
   "metadata": {},
   "outputs": [],
   "source": [
    "from pathlib import Path\n",
    "import pandas as pd"
   ]
  },
  {
   "cell_type": "markdown",
   "id": "f04be311",
   "metadata": {},
   "source": [
    "## Step 2: Understanding the Dataset\n",
    "Before cleaning the text let's understand the dataset. The dataset contains two columns:\n",
    "- review: Contains the movie review text\n",
    "- sentiment: It shows whether the review is positive or negative"
   ]
  },
  {
   "cell_type": "code",
   "execution_count": null,
   "id": "13088263",
   "metadata": {},
   "outputs": [],
   "source": [
    "working_dir = Path(r\"D:\\CODE\\DATA\")\n",
    "datafile = working_dir / \"IMDB-Dataset.csv\"\n",
    "\n",
    "df = pd.read_csv(datafile)"
   ]
  },
  {
   "cell_type": "code",
   "execution_count": null,
   "id": "faf4da6f",
   "metadata": {},
   "outputs": [],
   "source": [
    "df['review'][0]\n",
    "df.columns"
   ]
  },
  {
   "cell_type": "markdown",
   "id": "13cc9ffa",
   "metadata": {},
   "source": [
    "# Step 3: Cleaning the Text Data\n",
    "Before generating the word cloud, we need to clean the text data which involves:\n",
    "1. Removing punctuation\n",
    "2. Converting text to lowercase\n",
    "3. Removing stopwords i.e common words like \"the\", \"is\", \"and\"\n",
    "\n",
    "- **re.sub():** This removes punctuation and numbers\n",
    "- **STOPWORDS:** These are list of common stopwords"
   ]
  },
  {
   "cell_type": "code",
   "execution_count": null,
   "id": "0ee2b3e9",
   "metadata": {},
   "outputs": [],
   "source": [
    "import re\n",
    "from wordcloud import STOPWORDS\n",
    "\n",
    "text = ' '.join(df['review'].astype(str).tolist())\n",
    "text = re.sub(r'[^A-Za-z\\s]', '', text)\n",
    "text = text.lower()\n",
    "\n",
    "stopwords = set(STOPWORDS)\n",
    "text = ' '.join(word for word in text.split() if word not in stopwords)"
   ]
  },
  {
   "cell_type": "markdown",
   "id": "627f2c31",
   "metadata": {},
   "source": [
    "# Step 4: Generating the Word Cloud\n",
    "- WordCloud(): Generates the word cloud"
   ]
  },
  {
   "cell_type": "code",
   "execution_count": null,
   "id": "eeb6c201",
   "metadata": {},
   "outputs": [],
   "source": [
    "from wordcloud import WordCloud\n",
    "import matplotlib.pyplot as plt"
   ]
  },
  {
   "cell_type": "code",
   "execution_count": null,
   "id": "7fe7c1d2",
   "metadata": {},
   "outputs": [],
   "source": [
    "wordcloud = WordCloud(width=800, height=400, background_color='white').generate(text)"
   ]
  },
  {
   "cell_type": "code",
   "execution_count": null,
   "id": "e6b4c6e1",
   "metadata": {},
   "outputs": [],
   "source": [
    "plt.figure(figsize=(10, 5))\n",
    "plt.imshow(wordcloud, interpolation='bilinear')\n",
    "plt.axis('off')  \n",
    "plt.title(\"IMDB Movie Reviews Word Cloud\")\n",
    "plt.show()"
   ]
  },
  {
   "cell_type": "markdown",
   "id": "7ecef7f5",
   "metadata": {},
   "source": [
    "## Step 5: Customizing the Word Cloud\n",
    "We can customize the word cloud with different options like:\n",
    "1. Maximum number of words\n",
    "2. Color scheme\n",
    "3. Shape of the cloud\n",
    "\n",
    "**max_words**: Limits the number of words  \n",
    "**colormap**: Changes the color of the word cloud"
   ]
  },
  {
   "cell_type": "code",
   "execution_count": null,
   "id": "e06cf58c",
   "metadata": {},
   "outputs": [],
   "source": [
    "wordcloud = WordCloud(width=800, height=400, \n",
    "                      background_color='white', \n",
    "                      max_words=100, \n",
    "                      colormap='coolwarm').generate(text)"
   ]
  },
  {
   "cell_type": "code",
   "execution_count": null,
   "id": "4d07e33a",
   "metadata": {},
   "outputs": [],
   "source": [
    "plt.figure(figsize=(10, 5))\n",
    "plt.imshow(wordcloud, interpolation='bilinear')\n",
    "plt.axis('off')\n",
    "plt.title(\"Customized IMDB Movie Reviews Word Cloud\")\n",
    "plt.show()\n"
   ]
  },
  {
   "cell_type": "markdown",
   "id": "bf8c2ed1",
   "metadata": {},
   "source": [
    "# Real life applications of Word Cloud\n",
    "### Sentiment Analysis: \n",
    "Imagine we have hundreds of customer reviews. By creating two word clouds one for positive words like \"great\" and \"friendly\" and another for negative words like \"late\" and \"broken\" we can easily see what customers like or dislike.\n",
    "### Social Media Analysis: \n",
    "Observing what's trending on social media by collecting hashtags and keywords, word clouds can visually highlight what's being talked about the most.\n",
    "### Real-Time Data: \n",
    "In live customer chats or support systems it can instantly show common issues like \"delivery delay\" or \"payment error\" which helps teams to respond faster."
   ]
  }
 ],
 "metadata": {
  "kernelspec": {
   "display_name": "Python 3",
   "language": "python",
   "name": "python3"
  },
  "language_info": {
   "name": "python",
   "version": "3.13.3"
  }
 },
 "nbformat": 4,
 "nbformat_minor": 5
}
